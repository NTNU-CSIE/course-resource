{
 "cells": [
  {
   "cell_type": "code",
   "execution_count": null,
   "metadata": {},
   "outputs": [],
   "source": [
    "!python3 -V\n",
    "!python3 -m pip install pandas numpy matplotlib"
   ]
  },
  {
   "cell_type": "code",
   "execution_count": null,
   "metadata": {},
   "outputs": [],
   "source": [
    "import pandas as pd\n",
    "import numpy as np\n",
    "import matplotlib.pyplot as plt"
   ]
  },
  {
   "cell_type": "markdown",
   "metadata": {},
   "source": [
    "# Q1"
   ]
  },
  {
   "cell_type": "code",
   "execution_count": null,
   "metadata": {},
   "outputs": [],
   "source": [
    "# Read the data into a data frame.\n",
    "\n",
    "data = pd.read_csv('./pitching.csv')\n",
    "display(data)"
   ]
  },
  {
   "cell_type": "code",
   "execution_count": null,
   "metadata": {},
   "outputs": [],
   "source": [
    "# Display all pitchers in 2015 under each team sorted by their last names.\n",
    "\n",
    "pitchers_group_team = data[data['yearID'] == 2015].groupby('teamID')\n",
    "for team in pitchers_group_team.groups:\n",
    "    print(\"\\033[1;93m\" + team + \"\\033[0m\")\n",
    "    display(pitchers_group_team.get_group(team)[['playerID', 'nameFirst', 'nameLast']].sort_values('nameLast'))"
   ]
  },
  {
   "cell_type": "code",
   "execution_count": null,
   "metadata": {},
   "outputs": [],
   "source": [
    "# Display all pitchers in 2015 sorted by their ERAs. This allows you to identify the best and worst pitchers.\n",
    "\n",
    "display(data[data['yearID'] == 2015][['playerID', 'nameFirst', 'nameLast', 'ERA']].sort_values('ERA'))"
   ]
  },
  {
   "cell_type": "code",
   "execution_count": null,
   "metadata": {},
   "outputs": [],
   "source": [
    "# Display all pitchers in 2015 under each team sorted by their ERAs. \n",
    "\n",
    "pitchers_group_team = data[data['yearID'] == 2015].groupby('teamID')\n",
    "for team in pitchers_group_team.groups:\n",
    "    print(\"\\033[1;93m\" + team + \"\\033[0m\")\n",
    "    display(pitchers_group_team.get_group(team)[['playerID', 'nameFirst', 'nameLast', 'ERA']].sort_values('ERA'))"
   ]
  },
  {
   "cell_type": "code",
   "execution_count": null,
   "metadata": {},
   "outputs": [],
   "source": [
    "# Display all pitchers in 2015 under each team sorted by their strike outs (SO).\n",
    "\n",
    "pitchers_group_team = data[data['yearID'] == 2015].groupby('teamID')\n",
    "for team in pitchers_group_team.groups:\n",
    "    print(\"\\033[1;93m\" + team + \"\\033[0m\")\n",
    "    display(pitchers_group_team.get_group(team)[['playerID', 'nameFirst', 'nameLast', 'SO']].sort_values('SO'))"
   ]
  },
  {
   "cell_type": "code",
   "execution_count": null,
   "metadata": {},
   "outputs": [],
   "source": [
    "# Calculate the average ERA for each team, list the teams by the average ERA in a descending ord\n",
    "\n",
    "display(data.groupby('teamID')[['ERA']].mean().sort_values('ERA', ascending = False))"
   ]
  },
  {
   "cell_type": "code",
   "execution_count": null,
   "metadata": {},
   "outputs": [],
   "source": [
    "# Calculate the total number of home runs allowed (HRs) for each team, and list the team by the count in \n",
    "# an ascending order.\n",
    "\n",
    "display(data.groupby('teamID')[['HR']].sum().sort_values('HR'))"
   ]
  },
  {
   "cell_type": "code",
   "execution_count": null,
   "metadata": {},
   "outputs": [],
   "source": [
    "# Calculate each team’s average ERA from 2011 to 2015, and list the result as a table, where each column \n",
    "# is a year, each row is a team.\n",
    "\n",
    "display(data[(2011 <= data['yearID']) & (data['yearID'] <= 2015)].groupby(['teamID', 'yearID'])[['ERA']].mean().unstack().sort_index())"
   ]
  },
  {
   "cell_type": "code",
   "execution_count": null,
   "metadata": {},
   "outputs": [],
   "source": [
    "# Calculate the average ERAs for American League (AL) and National League (NL) from 2011 to 2015, and \n",
    "# list the result as a table, where each column is a league and each row is a year. \n",
    "\n",
    "display(data[(2011 <= data['yearID']) & (data['yearID'] <= 2015)].groupby(['lgID', 'yearID'])[['ERA']].mean().unstack())"
   ]
  },
  {
   "cell_type": "code",
   "execution_count": null,
   "metadata": {},
   "outputs": [],
   "source": [
    "# List the pitchers who had the most wins in each of the years from 2011 to 2015.\n",
    "\n",
    "display(data[(2011 <= data['yearID']) & (data['yearID'] <= 2015)].groupby(['yearID'])[['nameFirst', 'nameLast', 'W']].max())"
   ]
  },
  {
   "cell_type": "markdown",
   "metadata": {},
   "source": [
    "# Q2"
   ]
  },
  {
   "cell_type": "code",
   "execution_count": null,
   "metadata": {},
   "outputs": [],
   "source": [
    "pitchings_data = pd.read_csv('./pitching.csv')\n",
    "players_data = pd.read_csv('./players.csv')\n",
    "teams_data = pd.read_csv('./teams.csv')\n",
    "display(pitchings_data, players_data, teams_data)"
   ]
  },
  {
   "cell_type": "markdown",
   "metadata": {},
   "source": [
    "### Task1\n",
    "In the year of 2011-2015, Is a team’s win-loss record related to its payrolls?"
   ]
  },
  {
   "cell_type": "code",
   "execution_count": null,
   "metadata": {},
   "outputs": [],
   "source": [
    "# Compute the total number of wins for each of the teams in MLB over 2011-2015, sort them in a \n",
    "# descending order.\n",
    "\n",
    "teams_win_data = teams_data[(2011 <= teams_data['yearID']) & (teams_data['yearID'] <= 2015)].groupby('teamID')[['W']].sum().sort_values('W', ascending=False)\n",
    "display(teams_win_data)\n",
    "\n",
    "# Counting the win ratio to help plot following picture\n",
    "teams_win_lose_data = pd.DataFrame(data = teams_data[(2011 <= teams_data['yearID']) & (teams_data['yearID'] <= 2015)].groupby('teamID')[['W', 'L']].sum().apply(lambda x: x['W'] / (x['W'] + x['L']), axis = 'columns'), columns = ['Win-Lose Ratio']).sort_values('Win-Lose Ratio', ascending = False)"
   ]
  },
  {
   "cell_type": "code",
   "execution_count": null,
   "metadata": {},
   "outputs": [],
   "source": [
    "# Compute the average payroll per year for all teams over 2011-2015, sort them in a descending order. \n",
    "\n",
    "\n",
    "average_salary_data = players_data[(2011 <= players_data['yearID']) & (players_data['yearID'] <= 2015)].groupby(['teamID'])[['salary']].mean().sort_values('salary', ascending = False)\n",
    "display(average_salary_data)\n"
   ]
  },
  {
   "cell_type": "code",
   "execution_count": null,
   "metadata": {},
   "outputs": [],
   "source": [
    "# Create a visualization of your choice which will all allow you to show whether a team’s winning \n",
    "# record is related to its payroll. So is a team’s winning record related to its payroll?\n",
    "\n",
    "print('Correlation Coefficient: ', end = ' ')\n",
    "print(pd.merge(teams_win_lose_data.sort_index(), average_salary_data.sort_index(), left_on = 'teamID', right_on = 'teamID').corr().at['Win-Lose Ratio', 'salary'])\n",
    "\n",
    "plt.scatter(teams_win_lose_data.sort_index(), average_salary_data.sort_index())\n",
    "plt.xlabel('Win-Lose Ratio')\n",
    "plt.ylabel('Average Salary')\n",
    "plt.show()"
   ]
  },
  {
   "cell_type": "markdown",
   "metadata": {},
   "source": [
    "With picture and Correlation Coefficient, we find team’s win-loss record related to its payrolls."
   ]
  },
  {
   "cell_type": "markdown",
   "metadata": {},
   "source": [
    "### Task 2\n",
    "In the year of 2011-2015, Is a player’s batting performance related to his team’s win-loss record? "
   ]
  },
  {
   "cell_type": "code",
   "execution_count": null,
   "metadata": {},
   "outputs": [],
   "source": [
    "# Compute the Batting Averages for each of the MLB teams over 2011-2015, sort them in a descending\n",
    "# order. The Batting Average is defined as Hits/At Bats. The average is calculated from all players in \n",
    "# each team.\n",
    "\n",
    "batting_average = pd.DataFrame(data = players_data[(2011 <= players_data['yearID']) & (players_data['yearID'] <= 2015)].groupby('teamID')[['H', 'AB']].sum().apply(lambda x: x['H'] / x['AB'], axis = 'columns'), columns = ['Batting Average']).sort_values('Batting Average', ascending = False)\n",
    "display(batting_average)"
   ]
  },
  {
   "cell_type": "code",
   "execution_count": null,
   "metadata": {},
   "outputs": [],
   "source": [
    "# Create a visualization of your choice which will allow you to decide whether a team’s batting average \n",
    "# is related to its win-loss record. So is a team’s winning record related to its batting average?\n",
    "\n",
    "print('Correlation Coefficient: ', end = ' ')\n",
    "print(pd.merge(teams_win_lose_data.sort_index(), batting_average.sort_index(), left_on = 'teamID', right_on = 'teamID').corr().at['Win-Lose Ratio', 'Batting Average'])\n",
    "\n",
    "plt.scatter(teams_win_lose_data.sort_index(), batting_average.sort_index())\n",
    "plt.xlabel('Win-Lose Ratio')\n",
    "plt.ylabel('Batting Average')\n",
    "plt.show()"
   ]
  },
  {
   "cell_type": "markdown",
   "metadata": {},
   "source": [
    "With picture and Correlation Coefficient, we find player’s batting performance related to his team’s win-loss record."
   ]
  },
  {
   "cell_type": "markdown",
   "metadata": {},
   "source": [
    "### Task 3\n",
    "In the year of 2011-2015, is a team’s win-loss record related to its pitching performance? "
   ]
  },
  {
   "cell_type": "code",
   "execution_count": null,
   "metadata": {},
   "outputs": [],
   "source": [
    "# Display the average ERA (Earned Run Average) for each of the MLB teams in 2011-2015, sort them \n",
    "# in a descending order. A lower ERA indicates a better pitching performance.\n",
    "\n",
    "teams_era = teams_data[(2011 <= teams_data['yearID']) & (teams_data['yearID'] <= 2015)].groupby('teamID')[['ERA']].sum().sort_values('ERA', ascending = False)\n",
    "display(teams_era)"
   ]
  },
  {
   "cell_type": "code",
   "execution_count": null,
   "metadata": {},
   "outputs": [],
   "source": [
    "# Create a visualization of your choice which will allow you to decide if a team’s win-loss record is related\n",
    "# to its pitching performance.  So is a team’s winning record related to its pitching performance? \n",
    "\n",
    "print('Correlation Coefficient: ', end = ' ')\n",
    "print(pd.merge(teams_win_lose_data.sort_index(), teams_era.sort_index(), left_on = 'teamID', right_on = 'teamID').corr().at['Win-Lose Ratio', 'ERA'])\n",
    "\n",
    "plt.scatter(teams_win_lose_data.sort_index(), teams_era.sort_index())\n",
    "plt.xlabel('Win-Lose Ratio')\n",
    "plt.ylabel('REA')\n",
    "plt.show()"
   ]
  },
  {
   "cell_type": "markdown",
   "metadata": {},
   "source": [
    "player’s batting performance not related to his team’s win-loss record."
   ]
  }
 ],
 "metadata": {
  "kernelspec": {
   "display_name": "Python 3.10.6 64-bit",
   "language": "python",
   "name": "python3"
  },
  "language_info": {
   "codemirror_mode": {
    "name": "ipython",
    "version": 3
   },
   "file_extension": ".py",
   "mimetype": "text/x-python",
   "name": "python",
   "nbconvert_exporter": "python",
   "pygments_lexer": "ipython3",
   "version": "3.10.6"
  },
  "orig_nbformat": 4,
  "vscode": {
   "interpreter": {
    "hash": "b0fa6594d8f4cbf19f97940f81e996739fb7646882a419484c72d19e05852a7e"
   }
  }
 },
 "nbformat": 4,
 "nbformat_minor": 2
}
